{
 "cells": [
  {
   "cell_type": "code",
   "execution_count": null,
   "metadata": {},
   "outputs": [],
   "source": [
    "import torch\n",
    "import os\n",
    "\n",
    "from modules import  model, train, data"
   ]
  },
  {
   "cell_type": "code",
   "execution_count": null,
   "metadata": {},
   "outputs": [],
   "source": [
    "model, train_transforms, test_transforms = model.create_convnext_tiny(num_classes=43)\n",
    "\n",
    "!mkdir \"data\" \"./data/train_data\" \"./data/test_data\"\n",
    "\n",
    "train_dataloader, test_dataloader = data.prepare_data(train_root=\"./data/train_data\",\n",
    "                                                      test_root=\"./data/test_data\",\n",
    "                                                      train_transforms=train_transforms,\n",
    "                                                      test_transforms=test_transforms,\n",
    "                                                      batch_size=256,\n",
    "                                                      num_workers=os.cpu_count(),\n",
    "                                                      pin_memory=True)\n",
    "\n",
    "loss_fn = torch.nn.CrossEntropyLoss(label_smoothing=0.1)\n",
    "optimizer = torch.optim.Adam(model.parameters(), lr=1e-3)\n",
    "\n",
    "EPOCHS= 20\n",
    "device = \"cuda\" if torch.cuda.is_available() else \"cpu\"\n",
    "\n",
    "train.train_model(model=model,\n",
    "            train_dataloader=train_dataloader,\n",
    "            test_dataloader=test_dataloader,\n",
    "            optimizer=optimizer,\n",
    "            loss_fn=loss_fn,\n",
    "            epochs=EPOCHS,\n",
    "            device=device)\n"
   ]
  }
 ],
 "metadata": {
  "kernelspec": {
   "display_name": "Python 3",
   "language": "python",
   "name": "python3"
  },
  "language_info": {
   "name": "python",
   "version": "3.12.2"
  }
 },
 "nbformat": 4,
 "nbformat_minor": 2
}
